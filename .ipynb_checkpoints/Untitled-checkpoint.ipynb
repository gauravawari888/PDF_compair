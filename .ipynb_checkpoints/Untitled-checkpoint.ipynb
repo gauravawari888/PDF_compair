{
 "cells": [
  {
   "cell_type": "code",
   "execution_count": 3,
   "id": "89baade1",
   "metadata": {},
   "outputs": [
    {
     "name": "stderr",
     "output_type": "stream",
     "text": [
      "PdfReadWarning: Xref table not zero-indexed. ID numbers for objects will be corrected. [pdf.py:1736]\n"
     ]
    },
    {
     "name": "stdout",
     "output_type": "stream",
     "text": [
      "[0, 'No']\n",
      "[0, 'No']\n",
      "[0, 'No']\n"
     ]
    },
    {
     "ename": "PdfReadError",
     "evalue": "Multiple definitions in dictionary at byte 0x1189ded for key /Info",
     "output_type": "error",
     "traceback": [
      "\u001b[0;31m---------------------------------------------------------------------------\u001b[0m",
      "\u001b[0;31mPdfReadError\u001b[0m                              Traceback (most recent call last)",
      "Cell \u001b[0;32mIn[3], line 101\u001b[0m\n\u001b[1;32m     99\u001b[0m product_brochure_file_path\u001b[38;5;241m=\u001b[39mrow[\u001b[38;5;124m'\u001b[39m\u001b[38;5;124mproduct_brochure_file_path\u001b[39m\u001b[38;5;124m'\u001b[39m]\n\u001b[1;32m    100\u001b[0m docid_brochure_file_path\u001b[38;5;241m=\u001b[39mrow[\u001b[38;5;124m'\u001b[39m\u001b[38;5;124mdocid_brochure_file_path\u001b[39m\u001b[38;5;124m'\u001b[39m]\n\u001b[0;32m--> 101\u001b[0m output\u001b[38;5;241m=\u001b[39mcompare_pdfs(pdf1_path, pdf2_path)\n\u001b[1;32m    102\u001b[0m similarity_ratio\u001b[38;5;241m=\u001b[39moutput[\u001b[38;5;241m0\u001b[39m]\n\u001b[1;32m    103\u001b[0m match\u001b[38;5;241m=\u001b[39moutput[\u001b[38;5;241m1\u001b[39m]\n",
      "Cell \u001b[0;32mIn[3], line 59\u001b[0m, in \u001b[0;36mcompare_pdfs\u001b[0;34m(pdf1_path, pdf2_path, threshold)\u001b[0m\n\u001b[1;32m     57\u001b[0m \u001b[38;5;28;01mdef\u001b[39;00m \u001b[38;5;21mcompare_pdfs\u001b[39m(pdf1_path, pdf2_path, threshold\u001b[38;5;241m=\u001b[39m\u001b[38;5;241m90\u001b[39m):\n\u001b[1;32m     58\u001b[0m     text1 \u001b[38;5;241m=\u001b[39m extract_text_from_pdf(pdf1_path)\n\u001b[0;32m---> 59\u001b[0m     text2 \u001b[38;5;241m=\u001b[39m extract_text_from_pdf(pdf2_path)\n\u001b[1;32m     61\u001b[0m     similarity_ratio \u001b[38;5;241m=\u001b[39m fuzz\u001b[38;5;241m.\u001b[39mtoken_sort_ratio(text1, text2)\n\u001b[1;32m     63\u001b[0m     \u001b[38;5;28;01mif\u001b[39;00m similarity_ratio \u001b[38;5;241m>\u001b[39m\u001b[38;5;241m=\u001b[39m threshold:\n",
      "Cell \u001b[0;32mIn[3], line 50\u001b[0m, in \u001b[0;36mextract_text_from_pdf\u001b[0;34m(pdf_path)\u001b[0m\n\u001b[1;32m     48\u001b[0m \u001b[38;5;28;01mdef\u001b[39;00m \u001b[38;5;21mextract_text_from_pdf\u001b[39m(pdf_path):\n\u001b[1;32m     49\u001b[0m     \u001b[38;5;28;01mwith\u001b[39;00m \u001b[38;5;28mopen\u001b[39m(pdf_path, \u001b[38;5;124m'\u001b[39m\u001b[38;5;124mrb\u001b[39m\u001b[38;5;124m'\u001b[39m) \u001b[38;5;28;01mas\u001b[39;00m file:\n\u001b[0;32m---> 50\u001b[0m         pdf_reader \u001b[38;5;241m=\u001b[39m PyPDF2\u001b[38;5;241m.\u001b[39mPdfFileReader(file)\n\u001b[1;32m     51\u001b[0m         text \u001b[38;5;241m=\u001b[39m \u001b[38;5;124m\"\u001b[39m\u001b[38;5;124m\"\u001b[39m\n\u001b[1;32m     52\u001b[0m         \u001b[38;5;28;01mfor\u001b[39;00m page_num \u001b[38;5;129;01min\u001b[39;00m \u001b[38;5;28mrange\u001b[39m(pdf_reader\u001b[38;5;241m.\u001b[39mnumPages):\n",
      "File \u001b[0;32m~/anaconda3/lib/python3.11/site-packages/PyPDF2/pdf.py:1084\u001b[0m, in \u001b[0;36mPdfFileReader.__init__\u001b[0;34m(self, stream, strict, warndest, overwriteWarnings)\u001b[0m\n\u001b[1;32m   1082\u001b[0m     stream \u001b[38;5;241m=\u001b[39m BytesIO(b_(fileobj\u001b[38;5;241m.\u001b[39mread()))\n\u001b[1;32m   1083\u001b[0m     fileobj\u001b[38;5;241m.\u001b[39mclose()\n\u001b[0;32m-> 1084\u001b[0m \u001b[38;5;28mself\u001b[39m\u001b[38;5;241m.\u001b[39mread(stream)\n\u001b[1;32m   1085\u001b[0m \u001b[38;5;28mself\u001b[39m\u001b[38;5;241m.\u001b[39mstream \u001b[38;5;241m=\u001b[39m stream\n\u001b[1;32m   1087\u001b[0m \u001b[38;5;28mself\u001b[39m\u001b[38;5;241m.\u001b[39m_override_encryption \u001b[38;5;241m=\u001b[39m \u001b[38;5;28;01mFalse\u001b[39;00m\n",
      "File \u001b[0;32m~/anaconda3/lib/python3.11/site-packages/PyPDF2/pdf.py:1792\u001b[0m, in \u001b[0;36mPdfFileReader.read\u001b[0;34m(self, stream)\u001b[0m\n\u001b[1;32m   1790\u001b[0m readNonWhitespace(stream)\n\u001b[1;32m   1791\u001b[0m stream\u001b[38;5;241m.\u001b[39mseek(\u001b[38;5;241m-\u001b[39m\u001b[38;5;241m1\u001b[39m, \u001b[38;5;241m1\u001b[39m)\n\u001b[0;32m-> 1792\u001b[0m newTrailer \u001b[38;5;241m=\u001b[39m readObject(stream, \u001b[38;5;28mself\u001b[39m)\n\u001b[1;32m   1793\u001b[0m \u001b[38;5;28;01mfor\u001b[39;00m key, value \u001b[38;5;129;01min\u001b[39;00m \u001b[38;5;28mlist\u001b[39m(newTrailer\u001b[38;5;241m.\u001b[39mitems()):\n\u001b[1;32m   1794\u001b[0m     \u001b[38;5;28;01mif\u001b[39;00m key \u001b[38;5;129;01mnot\u001b[39;00m \u001b[38;5;129;01min\u001b[39;00m \u001b[38;5;28mself\u001b[39m\u001b[38;5;241m.\u001b[39mtrailer:\n",
      "File \u001b[0;32m~/anaconda3/lib/python3.11/site-packages/PyPDF2/generic.py:66\u001b[0m, in \u001b[0;36mreadObject\u001b[0;34m(stream, pdf)\u001b[0m\n\u001b[1;32m     64\u001b[0m stream\u001b[38;5;241m.\u001b[39mseek(\u001b[38;5;241m-\u001b[39m\u001b[38;5;241m2\u001b[39m, \u001b[38;5;241m1\u001b[39m) \u001b[38;5;66;03m# reset to start\u001b[39;00m\n\u001b[1;32m     65\u001b[0m \u001b[38;5;28;01mif\u001b[39;00m peek \u001b[38;5;241m==\u001b[39m b_(\u001b[38;5;124m'\u001b[39m\u001b[38;5;124m<<\u001b[39m\u001b[38;5;124m'\u001b[39m):\n\u001b[0;32m---> 66\u001b[0m     \u001b[38;5;28;01mreturn\u001b[39;00m DictionaryObject\u001b[38;5;241m.\u001b[39mreadFromStream(stream, pdf)\n\u001b[1;32m     67\u001b[0m \u001b[38;5;28;01melse\u001b[39;00m:\n\u001b[1;32m     68\u001b[0m     \u001b[38;5;28;01mreturn\u001b[39;00m readHexStringFromStream(stream)\n",
      "File \u001b[0;32m~/anaconda3/lib/python3.11/site-packages/PyPDF2/generic.py:584\u001b[0m, in \u001b[0;36mDictionaryObject.readFromStream\u001b[0;34m(stream, pdf)\u001b[0m\n\u001b[1;32m    581\u001b[0m     data[key] \u001b[38;5;241m=\u001b[39m value\n\u001b[1;32m    582\u001b[0m \u001b[38;5;28;01melif\u001b[39;00m pdf\u001b[38;5;241m.\u001b[39mstrict:\n\u001b[1;32m    583\u001b[0m     \u001b[38;5;66;03m# multiple definitions of key not permitted\u001b[39;00m\n\u001b[0;32m--> 584\u001b[0m     \u001b[38;5;28;01mraise\u001b[39;00m utils\u001b[38;5;241m.\u001b[39mPdfReadError(\u001b[38;5;124m\"\u001b[39m\u001b[38;5;124mMultiple definitions in dictionary at byte \u001b[39m\u001b[38;5;132;01m%s\u001b[39;00m\u001b[38;5;124m for key \u001b[39m\u001b[38;5;132;01m%s\u001b[39;00m\u001b[38;5;124m\"\u001b[39m \\\n\u001b[1;32m    585\u001b[0m                                \u001b[38;5;241m%\u001b[39m (utils\u001b[38;5;241m.\u001b[39mhexStr(stream\u001b[38;5;241m.\u001b[39mtell()), key))\n\u001b[1;32m    586\u001b[0m \u001b[38;5;28;01melse\u001b[39;00m:\n\u001b[1;32m    587\u001b[0m     warnings\u001b[38;5;241m.\u001b[39mwarn(\u001b[38;5;124m\"\u001b[39m\u001b[38;5;124mMultiple definitions in dictionary at byte \u001b[39m\u001b[38;5;132;01m%s\u001b[39;00m\u001b[38;5;124m for key \u001b[39m\u001b[38;5;132;01m%s\u001b[39;00m\u001b[38;5;124m\"\u001b[39m \\\n\u001b[1;32m    588\u001b[0m                                \u001b[38;5;241m%\u001b[39m (utils\u001b[38;5;241m.\u001b[39mhexStr(stream\u001b[38;5;241m.\u001b[39mtell()), key), utils\u001b[38;5;241m.\u001b[39mPdfReadWarning)\n",
      "\u001b[0;31mPdfReadError\u001b[0m: Multiple definitions in dictionary at byte 0x1189ded for key /Info"
     ]
    }
   ],
   "source": [
    "import pandas as pd\n",
    "import PyPDF2\n",
    "from fuzzywuzzy import fuzz\n",
    "import requests\n",
    "from os.path import exists\n",
    "import time\n",
    "import json\n",
    "from bs4 import BeautifulSoup\n",
    "import pandas as pd \n",
    "import re\n",
    "import os\n",
    "import csv\n",
    "import datetime\n",
    "\n",
    "\n",
    "headers = {\n",
    "    'User-Agent': 'Mozilla/5.0 (X11; Ubuntu; Linux x86_64; rv:121.0) Gecko/20100101 Firefox/121.0',\n",
    "    'Accept': 'text/html,application/xhtml+xml,application/xml;q=0.9,image/avif,image/webp,*/*;q=0.8',\n",
    "    'Accept-Language': 'en-US,en;q=0.5',\n",
    "    # 'Accept-Encoding': 'gzip, deflate, br',\n",
    "    'Connection': 'keep-alive',\n",
    "    'Upgrade-Insecure-Requests': '1',\n",
    "    'Sec-Fetch-Dest': 'document',\n",
    "    'Sec-Fetch-Mode': 'navigate',\n",
    "    'Sec-Fetch-Site': 'none',\n",
    "    'Sec-Fetch-User': '?1',\n",
    "    'If-Modified-Since': 'Sun, 10 Dec 2023 00:38:34 GMT',\n",
    "    'If-None-Match': '\"139d3634c2bda27a04d6c9b1fc31f7be\"',\n",
    "    # Requests doesn't support trailers\n",
    "    # 'TE': 'trailers',\n",
    "}\n",
    "\n",
    "def download_pdf(url):\n",
    "    save_path='/home/justdial/Documents/pdf_compare/input/{0}.pdf'.format(url.split('/')[-1].replace(\".pdf\",\"\"))\n",
    "    file=exists(save_path)\n",
    "    if(not file):\n",
    "     \n",
    "        response = requests.get(url)\n",
    "        if response.status_code == 200:\n",
    "            with open(save_path, 'wb') as file:\n",
    "                file.write(response.content)\n",
    "            print(f\"PDF downloaded successfully to: {save_path}\")\n",
    "        else:\n",
    "            print(f\"Failed to download PDF. Status code: {response.status_code}\")\n",
    "\n",
    "    return save_path\n",
    "\n",
    "def extract_text_from_pdf(pdf_path):\n",
    "    with open(pdf_path, 'rb') as file:\n",
    "        pdf_reader = PyPDF2.PdfFileReader(file)\n",
    "        text = \"\"\n",
    "        for page_num in range(pdf_reader.numPages):\n",
    "            page = pdf_reader.getPage(page_num)\n",
    "            text += page.extractText()\n",
    "    return text\n",
    "\n",
    "def compare_pdfs(pdf1_path, pdf2_path, threshold=90):\n",
    "    text1 = extract_text_from_pdf(pdf1_path)\n",
    "    text2 = extract_text_from_pdf(pdf2_path)\n",
    "\n",
    "    similarity_ratio = fuzz.token_sort_ratio(text1, text2)\n",
    "\n",
    "    if similarity_ratio >= threshold:\n",
    "        output=[similarity_ratio,'yes']\n",
    "        print(output)\n",
    "    else:\n",
    "        output=[similarity_ratio,'No']\n",
    "        print(output)\n",
    "    return output\n",
    "\n",
    "def save_in_csv(wr, row_data):\n",
    "    # Check if the CSV file already exists\n",
    "    file_exists = os.path.isfile('./output/brochure_matching_pid_vs_docid.csv')\n",
    "\n",
    "    with open('./output/brochure_matching_pid_vs_docid.csv', 'a', encoding='utf-8', errors='ignore', newline='') as file:\n",
    "        writer = csv.writer(file, delimiter='|')\n",
    "\n",
    "        # If the file doesn't exist, write the header row\n",
    "        if not file_exists:\n",
    "            writer.writerow(wr)\n",
    "\n",
    "        # Construct a row based on the predefined header order and variable names\n",
    "        row = [row_data.get(header, '') for header in wr]\n",
    "        writer.writerow(row)\n",
    "\n",
    "# Example usage:\n",
    "wr = [\"product_id\",\"docid\",\"product_brochure_file_path\",\"docid_brochure_file_path\",'similarity_ratio','match']\n",
    "\n",
    "df = pd.read_excel('/home/justdial/Downloads/brochure_matching_pid_vs_docid.xlsx')\n",
    "\n",
    "for i in range(1,len(df)):\n",
    "    row=df.iloc[i]\n",
    "    pdf1=row['product_brochure_file_path']\n",
    "    pdf2=row['docid_brochure_file_path']\n",
    "    pdf1_path=download_pdf(pdf1)\n",
    "    pdf2_path=download_pdf(pdf2)\n",
    "    product_id=row['product_id']\n",
    "    docid=row['docid']\n",
    "    product_brochure_file_path=row['product_brochure_file_path']\n",
    "    docid_brochure_file_path=row['docid_brochure_file_path']\n",
    "    output=compare_pdfs(pdf1_path, pdf2_path)\n",
    "    similarity_ratio=output[0]\n",
    "    match=output[1]\n",
    "    row_data={'product_id':product_id,'docid':docid,'product_brochure_file_path':product_brochure_file_path,'docid_brochure_file_path':docid_brochure_file_path,'similarity_ratio':similarity_ratio,'match':match}\n",
    "    save_in_csv(wr,row_data)\n",
    "    \n",
    "    \n",
    "    \n",
    "    \n",
    "    \n",
    "    \n"
   ]
  },
  {
   "cell_type": "code",
   "execution_count": null,
   "id": "2e6ccaf9",
   "metadata": {},
   "outputs": [],
   "source": [
    "def extract_text_from_pdf(pdf_path):\n",
    "    with open(pdf_path, 'rb') as file:\n",
    "        pdf_reader = PyPDF2.PdfFileReader(file)\n",
    "        text = \"\"\n",
    "        for page_num in range(pdf_reader.numPages):\n",
    "            page = pdf_reader.getPage(page_num)\n",
    "            text += page.extractText()\n",
    "    return text\n",
    "\n",
    "def compare_pdfs(pdf1_path, pdf2_path, threshold=90):\n",
    "    text1 = extract_text_from_pdf(pdf1_path)\n",
    "    text2 = extract_text_from_pdf(pdf2_path)\n",
    "\n",
    "    similarity_ratio = fuzz.token_sort_ratio(text1, text2)\n",
    "\n",
    "    if similarity_ratio >= threshold:\n",
    "        output=[similarity_ratio,'yes']\n",
    "        print(output)\n",
    "    else:\n",
    "        output=[similarity_ratio,'No']\n",
    "        print(output)\n",
    "    return output"
   ]
  },
  {
   "cell_type": "code",
   "execution_count": 2,
   "id": "441cdc9c",
   "metadata": {},
   "outputs": [
    {
     "name": "stderr",
     "output_type": "stream",
     "text": [
      "PdfReadWarning: Xref table not zero-indexed. ID numbers for objects will be corrected. [pdf.py:1736]\n"
     ]
    },
    {
     "data": {
      "text/plain": [
       "[100, 'yes']"
      ]
     },
     "execution_count": 2,
     "metadata": {},
     "output_type": "execute_result"
    }
   ],
   "source": [
    "compare_pdfs(\"/home/justdial/Documents/pdf_compare/input/turbo-ventilator-5f9qr.pdf\",\"/home/justdial/Documents/pdf_compare/input/turboventilator-9kus6.pdf\")"
   ]
  },
  {
   "cell_type": "code",
   "execution_count": null,
   "id": "81d55af4",
   "metadata": {},
   "outputs": [],
   "source": []
  }
 ],
 "metadata": {
  "kernelspec": {
   "display_name": "Python 3 (ipykernel)",
   "language": "python",
   "name": "python3"
  },
  "language_info": {
   "codemirror_mode": {
    "name": "ipython",
    "version": 3
   },
   "file_extension": ".py",
   "mimetype": "text/x-python",
   "name": "python",
   "nbconvert_exporter": "python",
   "pygments_lexer": "ipython3",
   "version": "3.11.5"
  }
 },
 "nbformat": 4,
 "nbformat_minor": 5
}
